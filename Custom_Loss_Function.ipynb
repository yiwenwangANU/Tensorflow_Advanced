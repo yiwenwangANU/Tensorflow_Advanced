{
  "nbformat": 4,
  "nbformat_minor": 0,
  "metadata": {
    "colab": {
      "name": "Custom Loss Function.ipynb",
      "provenance": [],
      "authorship_tag": "ABX9TyPmBIKtwcyJe0NQLUSTuvR2",
      "include_colab_link": true
    },
    "kernelspec": {
      "name": "python3",
      "display_name": "Python 3"
    },
    "language_info": {
      "name": "python"
    }
  },
  "cells": [
    {
      "cell_type": "markdown",
      "metadata": {
        "id": "view-in-github",
        "colab_type": "text"
      },
      "source": [
        "<a href=\"https://colab.research.google.com/github/yiwenwangANU/Tensorflow_Advanced/blob/main/Custom_Loss_Function.ipynb\" target=\"_parent\"><img src=\"https://colab.research.google.com/assets/colab-badge.svg\" alt=\"Open In Colab\"/></a>"
      ]
    },
    {
      "cell_type": "code",
      "execution_count": 1,
      "metadata": {
        "id": "hGDRpN7VWf4p"
      },
      "outputs": [],
      "source": [
        "import tensorflow as tf\n",
        "import numpy as np"
      ]
    },
    {
      "cell_type": "code",
      "source": [
        "X = np.array([-1.0,  0.0, 1.0, 2.0, 3.0, 4.0], dtype=float)\n",
        "y = np.array([-3.0, -1.0, 1.0, 3.0, 5.0, 7.0], dtype=float)"
      ],
      "metadata": {
        "id": "F9R_BJAIWpXP"
      },
      "execution_count": 2,
      "outputs": []
    },
    {
      "cell_type": "markdown",
      "source": [
        "#Huber Loss\n",
        "https://en.wikipedia.org/wiki/Huber_loss"
      ],
      "metadata": {
        "id": "lkgGbRhAaaoz"
      }
    },
    {
      "cell_type": "markdown",
      "source": [
        "#Loss function as a function"
      ],
      "metadata": {
        "id": "Ue9As_WmW3w7"
      }
    },
    {
      "cell_type": "code",
      "source": [
        "def huber_loss_function(threshold):\n",
        "  def huber_loss(y_true, y_pred):\n",
        "    error = y_true - y_pred\n",
        "    return tf.where(tf.abs(error) <= threshold,\n",
        "                    tf.square(error) / 2,\n",
        "                    threshold * (tf.abs(error) - (0.5 * threshold)))\n",
        "  return huber_loss"
      ],
      "metadata": {
        "id": "DzVvxSS3W-_l"
      },
      "execution_count": 3,
      "outputs": []
    },
    {
      "cell_type": "code",
      "source": [
        "from tensorflow.keras import layers\n",
        "\n",
        "model = tf.keras.Sequential([\n",
        "    tf.keras.Input(shape=(1)),\n",
        "    layers.Dense(1)\n",
        "])\n",
        "\n",
        "model.compile(loss=huber_loss_function(1.2),\n",
        "              optimizer=tf.keras.optimizers.SGD())\n",
        "\n",
        "model.fit(X, y,\n",
        "          epochs=500,\n",
        "          verbose=0)"
      ],
      "metadata": {
        "colab": {
          "base_uri": "https://localhost:8080/"
        },
        "id": "mBkr7GDgX121",
        "outputId": "afe4eb90-5e78-404e-ba70-80d1b9b8d2eb"
      },
      "execution_count": 10,
      "outputs": [
        {
          "output_type": "execute_result",
          "data": {
            "text/plain": [
              "<keras.callbacks.History at 0x7fe64fcf8050>"
            ]
          },
          "metadata": {},
          "execution_count": 10
        }
      ]
    },
    {
      "cell_type": "code",
      "source": [
        "print(model.predict([10.0]))"
      ],
      "metadata": {
        "colab": {
          "base_uri": "https://localhost:8080/"
        },
        "id": "9-pliI1OYgRG",
        "outputId": "70e99328-0770-482c-e67b-a3d9324ea2c2"
      },
      "execution_count": 11,
      "outputs": [
        {
          "output_type": "stream",
          "name": "stdout",
          "text": [
            "[[18.454062]]\n"
          ]
        }
      ]
    },
    {
      "cell_type": "markdown",
      "source": [
        "#Loss function as a class"
      ],
      "metadata": {
        "id": "6L9dHmxaY6Dl"
      }
    },
    {
      "cell_type": "code",
      "source": [
        "from tensorflow.keras.losses import Loss\n",
        "\n",
        "class HuberLoss(Loss):\n",
        "\n",
        "  def __init__(self, threshold=1):\n",
        "    super().__init__()\n",
        "    self.threshold = threshold\n",
        "\n",
        "  def call(self, y_true, y_pred):\n",
        "    error = y_true - y_pred\n",
        "    return tf.where(tf.abs(error) <= self.threshold,\n",
        "                    0.5 * tf.square(error),\n",
        "                    self.threshold * (tf.abs(error) - 0.5 * self.threshold))"
      ],
      "metadata": {
        "id": "PWFofinZZFpf"
      },
      "execution_count": 19,
      "outputs": []
    },
    {
      "cell_type": "code",
      "source": [
        "model = tf.keras.Sequential([\n",
        "    tf.keras.Input(shape=(1)),\n",
        "    layers.Dense(1)\n",
        "])\n",
        "\n",
        "model.compile(loss=HuberLoss(threshold=1.2),\n",
        "              optimizer=tf.keras.optimizers.SGD())\n",
        "\n",
        "model.fit(X, y,\n",
        "          epochs=500,\n",
        "          verbose=0)"
      ],
      "metadata": {
        "colab": {
          "base_uri": "https://localhost:8080/"
        },
        "id": "b9GLmAHrbWIJ",
        "outputId": "e0d79621-aedd-48d3-b032-4f5c44afa6e3"
      },
      "execution_count": 20,
      "outputs": [
        {
          "output_type": "execute_result",
          "data": {
            "text/plain": [
              "<keras.callbacks.History at 0x7fe64fae37d0>"
            ]
          },
          "metadata": {},
          "execution_count": 20
        }
      ]
    },
    {
      "cell_type": "code",
      "source": [
        "print(model.predict([10.0]))"
      ],
      "metadata": {
        "colab": {
          "base_uri": "https://localhost:8080/"
        },
        "id": "UUCP_puHbqoo",
        "outputId": "707c15a0-5c72-4235-c2dc-de974056593e"
      },
      "execution_count": 21,
      "outputs": [
        {
          "output_type": "stream",
          "name": "stdout",
          "text": [
            "[[18.752329]]\n"
          ]
        }
      ]
    }
  ]
}
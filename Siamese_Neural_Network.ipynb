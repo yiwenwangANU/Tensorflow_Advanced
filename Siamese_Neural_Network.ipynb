{
  "cells": [
    {
      "cell_type": "markdown",
      "metadata": {
        "id": "view-in-github",
        "colab_type": "text"
      },
      "source": [
        "<a href=\"https://colab.research.google.com/github/yiwenwangANU/Tensorflow_Advanced/blob/main/Siamese_Neural_Network.ipynb\" target=\"_parent\"><img src=\"https://colab.research.google.com/assets/colab-badge.svg\" alt=\"Open In Colab\"/></a>"
      ]
    },
    {
      "cell_type": "code",
      "execution_count": 1,
      "metadata": {
        "id": "yWbWCzW7YPqr"
      },
      "outputs": [],
      "source": [
        "import tensorflow as tf\n",
        "import numpy as np\n",
        "import random\n",
        "import matplotlib.pyplot as plt\n",
        "import tensorflow.keras.datasets as tfds\n",
        "from tensorflow.keras import layers"
      ]
    },
    {
      "cell_type": "markdown",
      "metadata": {
        "id": "seKx0SX6t4_L"
      },
      "source": [
        "#`np.where`"
      ]
    },
    {
      "cell_type": "code",
      "execution_count": 2,
      "metadata": {
        "colab": {
          "base_uri": "https://localhost:8080/"
        },
        "id": "sv4u0RY6uafJ",
        "outputId": "3b9dd045-7568-4a55-88b4-76aa48cf70e4"
      },
      "outputs": [
        {
          "output_type": "execute_result",
          "data": {
            "text/plain": [
              "array([0, 1, 2, 3, 4])"
            ]
          },
          "metadata": {},
          "execution_count": 2
        }
      ],
      "source": [
        "a = np.arange(10)\n",
        "np.where(a < 5)[0]"
      ]
    },
    {
      "cell_type": "code",
      "execution_count": 3,
      "metadata": {
        "colab": {
          "base_uri": "https://localhost:8080/"
        },
        "id": "VQGANbZvufIw",
        "outputId": "853432ef-7476-4057-a784-d066ee56825e"
      },
      "outputs": [
        {
          "output_type": "execute_result",
          "data": {
            "text/plain": [
              "array([ 0,  1,  2,  3,  4, 25, 36, 49, 64, 81])"
            ]
          },
          "metadata": {},
          "execution_count": 3
        }
      ],
      "source": [
        "np.where(a <5, a, a*a)"
      ]
    },
    {
      "cell_type": "markdown",
      "metadata": {
        "id": "QVKu8w5Puq8o"
      },
      "source": [
        "#Fashion Mnist from tfds"
      ]
    },
    {
      "cell_type": "code",
      "execution_count": 4,
      "metadata": {
        "id": "8E1_q7yJay9t",
        "colab": {
          "base_uri": "https://localhost:8080/"
        },
        "outputId": "192f7482-ea88-42a3-c1aa-5390a6f272f4"
      },
      "outputs": [
        {
          "output_type": "stream",
          "name": "stdout",
          "text": [
            "Downloading data from https://storage.googleapis.com/tensorflow/tf-keras-datasets/train-labels-idx1-ubyte.gz\n",
            "32768/29515 [=================================] - 0s 0us/step\n",
            "40960/29515 [=========================================] - 0s 0us/step\n",
            "Downloading data from https://storage.googleapis.com/tensorflow/tf-keras-datasets/train-images-idx3-ubyte.gz\n",
            "26427392/26421880 [==============================] - 0s 0us/step\n",
            "26435584/26421880 [==============================] - 0s 0us/step\n",
            "Downloading data from https://storage.googleapis.com/tensorflow/tf-keras-datasets/t10k-labels-idx1-ubyte.gz\n",
            "16384/5148 [===============================================================================================] - 0s 0us/step\n",
            "Downloading data from https://storage.googleapis.com/tensorflow/tf-keras-datasets/t10k-images-idx3-ubyte.gz\n",
            "4423680/4422102 [==============================] - 0s 0us/step\n",
            "4431872/4422102 [==============================] - 0s 0us/step\n"
          ]
        }
      ],
      "source": [
        "(X_train, y_train), (X_test, y_test) = tfds.fashion_mnist.load_data()\n",
        "X_train = X_train / 255.0\n",
        "X_test = X_test / 255.0"
      ]
    },
    {
      "cell_type": "code",
      "execution_count": 5,
      "metadata": {
        "colab": {
          "base_uri": "https://localhost:8080/"
        },
        "id": "EOVbaOfLbN3I",
        "outputId": "09d5c037-60c0-4d59-e6d3-ce3c0051418d"
      },
      "outputs": [
        {
          "output_type": "execute_result",
          "data": {
            "text/plain": [
              "array([9, 0, 0, 3, 0, 2, 7, 2, 5, 5, 0, 9, 5, 5, 7, 9, 1, 0, 6, 4, 3, 1,\n",
              "       4, 8, 4, 3, 0, 2, 4, 4, 5, 3, 6, 6, 0, 8, 5, 2, 1, 6, 6, 7, 9, 5,\n",
              "       9, 2, 7, 3, 0, 3], dtype=uint8)"
            ]
          },
          "metadata": {},
          "execution_count": 5
        }
      ],
      "source": [
        "y_train[:50]"
      ]
    },
    {
      "cell_type": "markdown",
      "metadata": {
        "id": "y6rKl5guu51m"
      },
      "source": [
        "#Data preprocessing"
      ]
    },
    {
      "cell_type": "code",
      "execution_count": 6,
      "metadata": {
        "id": "A2qW6sw2eZe1"
      },
      "outputs": [],
      "source": [
        "# digit_didices = [[] for i in range(10)]\n",
        "# for i, label in enumerate(y_train):\n",
        "#   digit_didices[label].append(i)"
      ]
    },
    {
      "cell_type": "code",
      "execution_count": 7,
      "metadata": {
        "id": "MByecaeFp4Gm"
      },
      "outputs": [],
      "source": [
        "def create_indices(y):\n",
        "  digit_indices = [np.where(y == i)[0] for i in range(10)]\n",
        "  return digit_indices"
      ]
    },
    {
      "cell_type": "code",
      "execution_count": 8,
      "metadata": {
        "id": "AracZUsyjutj"
      },
      "outputs": [],
      "source": [
        "def create_labeled_pairs(X, digit_indices):\n",
        "  pairs = []\n",
        "  labels = []\n",
        "\n",
        "  n = min([len(index_list) for index_list in digit_indices])\n",
        "  \n",
        "  for d in range(10):\n",
        "    for i in range(n-1):\n",
        "      index_1, index_2 = digit_indices[d][i], digit_indices[d][i+1]\n",
        "      pairs.append([X[index_1], X[index_2]])\n",
        "      labels.append(1)\n",
        "      rd = (random.randint(1, 9) + d) % 10\n",
        "      index_1, index_3 = digit_indices[d][i], digit_indices[rd][i]\n",
        "      pairs.append([X[index_1], X[index_3]])\n",
        "      labels.append(0)\n",
        "\n",
        "  return np.array(pairs), np.array(labels, dtype='float32')"
      ]
    },
    {
      "cell_type": "code",
      "source": [
        "random.randrange(1, 10)"
      ],
      "metadata": {
        "colab": {
          "base_uri": "https://localhost:8080/"
        },
        "id": "cIS3fVi1sJn0",
        "outputId": "c0a30bb8-35eb-4926-8565-b119e9762f5c"
      },
      "execution_count": 9,
      "outputs": [
        {
          "output_type": "execute_result",
          "data": {
            "text/plain": [
              "4"
            ]
          },
          "metadata": {},
          "execution_count": 9
        }
      ]
    },
    {
      "cell_type": "code",
      "execution_count": 10,
      "metadata": {
        "id": "lkk-TYC0kbtl"
      },
      "outputs": [],
      "source": [
        "train_indices = create_indices(y_train)\n",
        "test_indices = create_indices(y_test)\n",
        "\n",
        "train_pairs, train_labels = create_labeled_pairs(X_train, train_indices)\n",
        "test_pairs, test_labels = create_labeled_pairs(X_test, test_indices)"
      ]
    },
    {
      "cell_type": "code",
      "execution_count": 11,
      "metadata": {
        "colab": {
          "base_uri": "https://localhost:8080/"
        },
        "id": "zHs4N3GsZhLj",
        "outputId": "ff2971d9-a383-4cc0-d541-1924f89f7e47"
      },
      "outputs": [
        {
          "output_type": "execute_result",
          "data": {
            "text/plain": [
              "[array([    1,     2,     4, ..., 59974, 59985, 59998]),\n",
              " array([   16,    21,    38, ..., 59989, 59991, 59996]),\n",
              " array([    5,     7,    27, ..., 59977, 59981, 59993]),\n",
              " array([    3,    20,    25, ..., 59971, 59980, 59997]),\n",
              " array([   19,    22,    24, ..., 59984, 59986, 59990]),\n",
              " array([    8,     9,    12, ..., 59983, 59995, 59999]),\n",
              " array([   18,    32,    33, ..., 59973, 59987, 59988]),\n",
              " array([    6,    14,    41, ..., 59951, 59979, 59992]),\n",
              " array([   23,    35,    57, ..., 59962, 59967, 59994]),\n",
              " array([    0,    11,    15, ..., 59932, 59970, 59978])]"
            ]
          },
          "metadata": {},
          "execution_count": 11
        }
      ],
      "source": [
        "train_indices"
      ]
    },
    {
      "cell_type": "code",
      "execution_count": 12,
      "metadata": {
        "id": "gHwOq_MEt_eM"
      },
      "outputs": [],
      "source": [
        "def show_img(img):\n",
        "  plt.figure()\n",
        "  plt.imshow(img)\n",
        "  plt.show()"
      ]
    },
    {
      "cell_type": "code",
      "execution_count": 13,
      "metadata": {
        "colab": {
          "base_uri": "https://localhost:8080/",
          "height": 531
        },
        "id": "4Dd7Ic4QmnDr",
        "outputId": "3074154d-1cfc-4092-9383-da9ac8ac7ae8"
      },
      "outputs": [
        {
          "output_type": "display_data",
          "data": {
            "text/plain": [
              "<Figure size 432x288 with 1 Axes>"
            ],
            "image/png": "[encoded data removed]"
          },
          "metadata": {
            "needs_background": "light"
          }
        },
        {
          "output_type": "display_data",
          "data": {
            "text/plain": [
              "<Figure size 432x288 with 1 Axes>"
            ],
            "image/png": "[encoded data removed]"
          },
          "metadata": {
            "needs_background": "light"
          }
        },
        {
          "output_type": "stream",
          "name": "stdout",
          "text": [
            "1.0\n"
          ]
        }
      ],
      "source": [
        "index = 2\n",
        "show_img(train_pairs[index][0])\n",
        "show_img(train_pairs[index][1])\n",
        "print(train_labels[index])"
      ]
    },
    {
      "cell_type": "markdown",
      "metadata": {
        "id": "QF8DgbDrmpGz"
      },
      "source": [
        "#Model"
      ]
    },
    {
      "cell_type": "code",
      "execution_count": 14,
      "metadata": {
        "colab": {
          "base_uri": "https://localhost:8080/",
          "height": 754
        },
        "id": "bF8lmsLo9mkk",
        "outputId": "ed4ac8af-3a32-45e7-bf68-796a4b1161c1"
      },
      "outputs": [
        {
          "output_type": "execute_result",
          "data": {
            "text/plain": [
              "<IPython.core.display.Image object>"
            ],
            "image/png": "[encoded data removed]"
          },
          "metadata": {},
          "execution_count": 14
        }
      ],
      "source": [
        "inputs = layers.Input(shape=(28, 28))\n",
        "x = layers.Flatten()(inputs)\n",
        "x = layers.Dense(128, activation='relu')(x)\n",
        "x = layers.Dropout(0.1)(x)\n",
        "x = layers.Dense(128, activation='relu')(x)\n",
        "x = layers.Dropout(0.1)(x)\n",
        "outputs = layers.Dense(128, activation='relu')(x)\n",
        "\n",
        "base_model = tf.keras.Model(inputs, outputs)\n",
        "\n",
        "from tensorflow.keras.utils import plot_model\n",
        "plot_model(base_model, show_shapes=True)"
      ]
    },
    {
      "cell_type": "markdown",
      "metadata": {
        "id": "UzKPHJYNIZtX"
      },
      "source": [
        "##Check for the dims"
      ]
    },
    {
      "cell_type": "code",
      "execution_count": 15,
      "metadata": {
        "colab": {
          "base_uri": "https://localhost:8080/"
        },
        "id": "apxByHJfDGsl",
        "outputId": "b266cd8d-3182-474e-c45a-819ffa2eb746"
      },
      "outputs": [
        {
          "output_type": "execute_result",
          "data": {
            "text/plain": [
              "6"
            ]
          },
          "metadata": {},
          "execution_count": 15
        }
      ],
      "source": [
        "x = tf.constant([[1, 1, 1], [1, 1, 1]])\n",
        "tf.reduce_sum(x).numpy()"
      ]
    },
    {
      "cell_type": "code",
      "execution_count": 16,
      "metadata": {
        "colab": {
          "base_uri": "https://localhost:8080/"
        },
        "id": "N7G9T3B8G0Th",
        "outputId": "62817643-d4c8-4d09-dee4-fa4b58addaed"
      },
      "outputs": [
        {
          "output_type": "execute_result",
          "data": {
            "text/plain": [
              "array([3, 3], dtype=int32)"
            ]
          },
          "metadata": {},
          "execution_count": 16
        }
      ],
      "source": [
        "x = tf.constant([[1, 1, 1], [1, 1, 1]])\n",
        "tf.reduce_sum(x, axis=1).numpy()"
      ]
    },
    {
      "cell_type": "code",
      "execution_count": 17,
      "metadata": {
        "colab": {
          "base_uri": "https://localhost:8080/"
        },
        "id": "9quqvSk-G4eU",
        "outputId": "76b42121-0004-45cc-9b97-7d2455297a75"
      },
      "outputs": [
        {
          "output_type": "execute_result",
          "data": {
            "text/plain": [
              "array([[3],\n",
              "       [3]], dtype=int32)"
            ]
          },
          "metadata": {},
          "execution_count": 17
        }
      ],
      "source": [
        "x = tf.constant([[1, 1, 1], [1, 1, 1]])\n",
        "tf.reduce_sum(x, axis=1, keepdims=True).numpy()"
      ]
    },
    {
      "cell_type": "code",
      "execution_count": 18,
      "metadata": {
        "id": "8HoLeVko-mi5"
      },
      "outputs": [],
      "source": [
        "def euclidean_distance(vect):\n",
        "  x, y = vect\n",
        "  sum_square = tf.reduce_sum(tf.square(x - y), axis=1, keepdims=True)\n",
        "  return tf.sqrt(tf.maximum(sum_square,\n",
        "                            tf.keras.backend.epsilon()))"
      ]
    },
    {
      "cell_type": "code",
      "execution_count": 19,
      "metadata": {
        "colab": {
          "base_uri": "https://localhost:8080/",
          "height": 312
        },
        "id": "30xg5GAjBZDv",
        "outputId": "d7108d41-a39a-4d6c-d647-45949960d969"
      },
      "outputs": [
        {
          "output_type": "execute_result",
          "data": {
            "text/plain": [
              "<IPython.core.display.Image object>"
            ],
            "image/png": "[encoded data removed]"
          },
          "metadata": {},
          "execution_count": 19
        }
      ],
      "source": [
        "input_a = layers.Input(shape=(28,28,), name=\"left_input\")\n",
        "vect_output_a = base_model(input_a)\n",
        "\n",
        "input_b = layers.Input(shape=(28,28,), name=\"right_input\")\n",
        "vect_output_b = base_model(input_b)\n",
        "\n",
        "output = layers.Lambda(euclidean_distance, name=\"output_layer\")([vect_output_a, vect_output_b])\n",
        "\n",
        "model = tf.keras.Model([input_a, input_b], output)\n",
        "\n",
        "plot_model(model, show_shapes=True)"
      ]
    },
    {
      "cell_type": "code",
      "execution_count": 20,
      "metadata": {
        "id": "VKXa0teJHHF9"
      },
      "outputs": [],
      "source": [
        "def contrastive_loss(margin=1):\n",
        "  def inner_contrastive_loss(y_true, y_pred):\n",
        "    return y_true*(tf.square(y_pred)) + (1-y_true)*tf.square(tf.maximum(margin-y_pred, 0))\n",
        "  return inner_contrastive_loss"
      ]
    },
    {
      "cell_type": "code",
      "execution_count": 21,
      "metadata": {
        "colab": {
          "base_uri": "https://localhost:8080/"
        },
        "id": "IZJdrQLuMBkN",
        "outputId": "98487f5b-89bc-48c4-da0c-81338335253e"
      },
      "outputs": [
        {
          "output_type": "execute_result",
          "data": {
            "text/plain": [
              "(119980, 28, 28)"
            ]
          },
          "metadata": {},
          "execution_count": 21
        }
      ],
      "source": [
        "train_pairs[:, 1].shape"
      ]
    },
    {
      "cell_type": "code",
      "execution_count": 22,
      "metadata": {
        "colab": {
          "base_uri": "https://localhost:8080/"
        },
        "id": "j-jKDwFjS0h7",
        "outputId": "ece9b406-0443-47a4-97a7-9bdc64ed61fb"
      },
      "outputs": [
        {
          "output_type": "execute_result",
          "data": {
            "text/plain": [
              "dtype('float32')"
            ]
          },
          "metadata": {},
          "execution_count": 22
        }
      ],
      "source": [
        "train_labels.dtype"
      ]
    },
    {
      "cell_type": "code",
      "execution_count": 23,
      "metadata": {
        "colab": {
          "base_uri": "https://localhost:8080/"
        },
        "id": "C5c3T6lTK59g",
        "outputId": "bde14d5c-cf08-49de-9542-dd8b1d0094c5"
      },
      "outputs": [
        {
          "output_type": "stream",
          "name": "stdout",
          "text": [
            "Epoch 1/20\n",
            "938/938 [==============================] - 8s 4ms/step - loss: 0.1122 - val_loss: 0.0873\n",
            "Epoch 2/20\n",
            "938/938 [==============================] - 3s 4ms/step - loss: 0.0796 - val_loss: 0.0797\n",
            "Epoch 3/20\n",
            "938/938 [==============================] - 3s 3ms/step - loss: 0.0709 - val_loss: 0.0727\n",
            "Epoch 4/20\n",
            "938/938 [==============================] - 3s 4ms/step - loss: 0.0663 - val_loss: 0.0697\n",
            "Epoch 5/20\n",
            "938/938 [==============================] - 3s 4ms/step - loss: 0.0630 - val_loss: 0.0712\n",
            "Epoch 6/20\n",
            "938/938 [==============================] - 3s 4ms/step - loss: 0.0611 - val_loss: 0.0707\n",
            "Epoch 7/20\n",
            "938/938 [==============================] - 3s 4ms/step - loss: 0.0597 - val_loss: 0.0676\n",
            "Epoch 8/20\n",
            "938/938 [==============================] - 4s 4ms/step - loss: 0.0584 - val_loss: 0.0690\n",
            "Epoch 9/20\n",
            "938/938 [==============================] - 3s 4ms/step - loss: 0.0573 - val_loss: 0.0669\n",
            "Epoch 10/20\n",
            "938/938 [==============================] - 3s 4ms/step - loss: 0.0561 - val_loss: 0.0666\n",
            "Epoch 11/20\n",
            "938/938 [==============================] - 3s 4ms/step - loss: 0.0556 - val_loss: 0.0669\n",
            "Epoch 12/20\n",
            "938/938 [==============================] - 3s 4ms/step - loss: 0.0553 - val_loss: 0.0663\n",
            "Epoch 13/20\n",
            "938/938 [==============================] - 3s 4ms/step - loss: 0.0537 - val_loss: 0.0653\n",
            "Epoch 14/20\n",
            "938/938 [==============================] - 3s 4ms/step - loss: 0.0531 - val_loss: 0.0639\n",
            "Epoch 15/20\n",
            "938/938 [==============================] - 3s 4ms/step - loss: 0.0524 - val_loss: 0.0645\n",
            "Epoch 16/20\n",
            "938/938 [==============================] - 3s 4ms/step - loss: 0.0523 - val_loss: 0.0638\n",
            "Epoch 17/20\n",
            "938/938 [==============================] - 3s 4ms/step - loss: 0.0517 - val_loss: 0.0663\n",
            "Epoch 18/20\n",
            "938/938 [==============================] - 3s 4ms/step - loss: 0.0510 - val_loss: 0.0681\n",
            "Epoch 19/20\n",
            "938/938 [==============================] - 3s 4ms/step - loss: 0.0505 - val_loss: 0.0642\n",
            "Epoch 20/20\n",
            "938/938 [==============================] - 3s 4ms/step - loss: 0.0500 - val_loss: 0.0632\n"
          ]
        }
      ],
      "source": [
        "model.compile(loss=contrastive_loss(margin=1),\n",
        "              optimizer=tf.keras.optimizers.RMSprop())\n",
        "\n",
        "history = model.fit([train_pairs[:, 0], train_pairs[:, 1]],\n",
        "                    train_labels,\n",
        "                    epochs=20,\n",
        "                    batch_size=128,\n",
        "                    validation_data=([test_pairs[:, 0], test_pairs[:, 1]],\n",
        "                                     test_labels))"
      ]
    }
  ],
  "metadata": {
    "colab": {
      "collapsed_sections": [],
      "name": "Siamese Neural Network.ipynb",
      "provenance": [],
      "authorship_tag": "ABX9TyMEy+na0QbcXHSoAeDUQfKZ",
      "include_colab_link": true
    },
    "kernelspec": {
      "display_name": "Python 3",
      "name": "python3"
    },
    "language_info": {
      "name": "python"
    },
    "accelerator": "GPU",
    "gpuClass": "standard"
  },
  "nbformat": 4,
  "nbformat_minor": 0
}